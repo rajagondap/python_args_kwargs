{
 "cells": [
  {
   "cell_type": "markdown",
   "metadata": {},
   "source": [
    "# <span style=\"color: brown;\"> Python **kwargs</span>"
   ]
  },
  {
   "cell_type": "markdown",
   "metadata": {},
   "source": [
    "Lets learn more about python **kwargs\n",
    "\n",
    "The python <code> **kwargs </code> are nothing but the keyword arguments. In any function, they work like <code> *args </code> but instead of accepting the positional arguments they accept keyword or named arguments and behave like a key values pair just like dictionary"
   ]
  },
  {
   "cell_type": "markdown",
   "metadata": {},
   "source": [
    "## <span style=\"color: brown;\"> Using **kwargs as variables inside funation defination </span>\n"
   ]
  },
  {
   "cell_type": "markdown",
   "metadata": {},
   "source": [
    "The important points to remenber are \n",
    "\n",
    "<strong>\n",
    "    <span style=\"color: darkblue;\">\n",
    "        <ol>\n",
    "            <li>Default arguments should follow non-default arguments </li>\n",
    "            <li>keywork arguments <code> **kwargs </code> should follow positional arguments <code> *args </code></li>\n",
    "            <li>All the keyword arguments passed must match one of the arguments accepted by the function and their order is not important</li>\n",
    "            <li>No argument should receive values more than once</li>\n",
    "            <li>Default arguments are optional arguments</li>\n",
    "        </ol>\n",
    "    </span>\n",
    "</strong>\n",
    "\n",
    "Nothing to get confuse or worried here, lets just focus on the fact that \n",
    "\n",
    "\n",
    "1. If we have positional arguments in our function defination then keyword arguments should come after the positional arguments\n",
    "2. If we dont have positional arguments and one have optional and defualt arguments, the keywrod arguments should come after these two arguments defination\n",
    "\n",
    "Hope this is clear..\n",
    "\n",
    "Now, lets try an example of **kwargs in functiona defination\n",
    "\n",
    "\n",
    "\n",
    "\n"
   ]
  },
  {
   "cell_type": "code",
   "execution_count": 10,
   "metadata": {},
   "outputs": [],
   "source": [
    "def concatenate_strings(**kwargs):\n",
    "    result = \"\"\n",
    "    #Iterating over the kwargs disctionary\n",
    "    for arg in kwargs.values():\n",
    "        result+=arg\n",
    "    return result\n"
   ]
  },
  {
   "cell_type": "code",
   "execution_count": 11,
   "metadata": {},
   "outputs": [
    {
     "name": "stdout",
     "output_type": "stream",
     "text": [
      "today's weather is peasent!\n"
     ]
    }
   ],
   "source": [
    "print(concatenate_strings(a=\"today's \", b=\"weather \", c=\"is \", d=\"peasent\", e=\"!\"))"
   ]
  },
  {
   "cell_type": "markdown",
   "metadata": {},
   "source": [
    "Here we go!\n",
    "\n",
    "the output is the concatenaded string\n",
    "\n",
    "<code> concatenate_strings()</code> will iterate through the kwargs dictionary and concatenates all the values it finds and returns the result \n",
    "\n",
    "</hr>\n",
    "\n",
    "Like args, kwargs is just a name that can be changed to whatver you want.. what is most important is <code> ** </code> <strong> (Unpacking Operator)</strong>.\n"
   ]
  },
  {
   "cell_type": "markdown",
   "metadata": {},
   "source": [
    "## <span style=\"color: brown;\"> Unpacking with ** Operator </span>"
   ]
  },
  {
   "cell_type": "markdown",
   "metadata": {},
   "source": [
    "The unpacking opertator <code> ** </code> can be used for merging two dictionaries as in the following code.\n"
   ]
  },
  {
   "cell_type": "code",
   "execution_count": 15,
   "metadata": {},
   "outputs": [
    {
     "name": "stdout",
     "output_type": "stream",
     "text": [
      "{'x': 1, 'y': 2, 'a': 3, 'b': 4}\n"
     ]
    }
   ],
   "source": [
    "my_first_dict = {\"x\": 1, \"y\": 2}\n",
    "my_second_dict = {\"a\": 3, \"b\": 4}\n",
    "my_merged_dict = {**my_first_dict, **my_second_dict}\n",
    "\n",
    "print(my_merged_dict)"
   ]
  },
  {
   "cell_type": "markdown",
   "metadata": {},
   "source": [
    "### <span style=\"color: brown;\"> Important points to remember: </span>\n",
    "\n",
    "<ol>\n",
    "        <li>Use <strong>positional-only</strong> if you want the name of the parameters to not be available to the user. This is useful when parameter names have no real meaning.</li>\n",
    "        <li>Use <strong>positional-only</strong> if you want to enforce the order of the arguments when the function is called.</li>\n",
    "        <li>Use <strong>keyword-only</strong> when names have meaning and the function definition is more understandable by being explicit with names.</li>\n",
    "        <li>Use <strong>keyword-only</strong> when you want to prevent users from relying on the position of the argument being passed.</li>\n",
    "</ol>\n",
    "\n",
    "    "
   ]
  }
 ],
 "metadata": {
  "kernelspec": {
   "display_name": "Python 3",
   "language": "python",
   "name": "python3"
  },
  "language_info": {
   "codemirror_mode": {
    "name": "ipython",
    "version": 3
   },
   "file_extension": ".py",
   "mimetype": "text/x-python",
   "name": "python",
   "nbconvert_exporter": "python",
   "pygments_lexer": "ipython3",
   "version": "3.8.5"
  }
 },
 "nbformat": 4,
 "nbformat_minor": 4
}
